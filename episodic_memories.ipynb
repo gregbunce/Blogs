{
  "nbformat": 4,
  "nbformat_minor": 0,
  "metadata": {
    "colab": {
      "name": "episodic_memories.ipynb",
      "provenance": [],
      "collapsed_sections": [],
      "include_colab_link": true
    },
    "kernelspec": {
      "name": "python3",
      "display_name": "Python 3"
    }
  },
  "cells": [
    {
      "cell_type": "markdown",
      "metadata": {
        "id": "view-in-github",
        "colab_type": "text"
      },
      "source": [
        "<a href=\"https://colab.research.google.com/github/gregbunce/Blogs/blob/master/episodic_memories.ipynb\" target=\"_parent\"><img src=\"https://colab.research.google.com/assets/colab-badge.svg\" alt=\"Open In Colab\"/></a>"
      ]
    },
    {
      "cell_type": "markdown",
      "metadata": {
        "id": "7ot3uuC8NeFF",
        "colab_type": "text"
      },
      "source": [
        "# **The Human Brain as a Geographic Information System (GIS)**\n"
      ]
    },
    {
      "cell_type": "markdown",
      "metadata": {
        "id": "FU2FHluarxdx",
        "colab_type": "text"
      },
      "source": [
        "This python notebook accompanies the article, [\"Cognitive Maps: The Science Behind our Brain’s Internal Mapping and Navigation System\"](www.link.com)."
      ]
    },
    {
      "cell_type": "markdown",
      "metadata": {
        "id": "uVJvCdwg6dFo",
        "colab_type": "text"
      },
      "source": [
        "Below we will explore what the human brain's cognitive mapping system might look like using a software-based Geographic Information System (GIS)."
      ]
    },
    {
      "cell_type": "markdown",
      "metadata": {
        "id": "t9oFRloDcXhE",
        "colab_type": "text"
      },
      "source": [
        "In keeping with the openminded theme, this project is built with open source ([OGC](https://www.opengeospatial.org/)) software and tools.  Using [PostgreSQL](https://www.postgresql.org/)/[PostGIS](https://postgis.net/), the database is hosted in the cloud ([Google Cloud Platform](https://cloud.google.com/)) and the data was created using the [QGIS](https://qgis.org/en/site/) application. To facilitate the database transactions, we'll use the python libray [Psycopg](http://initd.org/psycopg/)."
      ]
    },
    {
      "cell_type": "markdown",
      "metadata": {
        "id": "BL7pA2sYHHm0",
        "colab_type": "text"
      },
      "source": [
        "\n",
        "\n",
        "---\n",
        "\n"
      ]
    },
    {
      "cell_type": "markdown",
      "metadata": {
        "id": "H_6zlcN2I9vM",
        "colab_type": "text"
      },
      "source": [
        "*Note: to run this python notebook you will need to execute the bracketed ```[ ] code blocks``` in consecutive order.*"
      ]
    },
    {
      "cell_type": "markdown",
      "metadata": {
        "id": "97NUW1-9Gg3O",
        "colab_type": "text"
      },
      "source": [
        "***1. Install Python dependencies into memory***"
      ]
    },
    {
      "cell_type": "code",
      "metadata": {
        "id": "LORkcHw1nnhL",
        "colab_type": "code",
        "colab": {}
      },
      "source": [
        "pip install psycopg2\n"
      ],
      "execution_count": 0,
      "outputs": []
    },
    {
      "cell_type": "markdown",
      "metadata": {
        "id": "YmBkFod8Ilj-",
        "colab_type": "text"
      },
      "source": [
        "***2. Import the required libraries***"
      ]
    },
    {
      "cell_type": "code",
      "metadata": {
        "id": "SEQkP1Pun7As",
        "colab_type": "code",
        "colab": {}
      },
      "source": [
        "import psycopg2\n",
        "import psycopg2.extras"
      ],
      "execution_count": 0,
      "outputs": []
    },
    {
      "cell_type": "markdown",
      "metadata": {
        "id": "V7qZHdnAQwgd",
        "colab_type": "text"
      },
      "source": [
        "***3. Create Database (the brain) and enable Spatial Extention (hippocampus)***  -- *Note: this section contains an example db transaction. It will not run in this notebook.*"
      ]
    },
    {
      "cell_type": "markdown",
      "metadata": {
        "id": "dVrUpzAHnhbt",
        "colab_type": "text"
      },
      "source": [
        ""
      ]
    },
    {
      "cell_type": "markdown",
      "metadata": {
        "id": "_lEHBQcqcM9O",
        "colab_type": "text"
      },
      "source": [
        "```\n",
        "CREATE DATABASE my_memories;\n",
        "CREATE EXTENSION postgis;\n",
        "```"
      ]
    },
    {
      "cell_type": "markdown",
      "metadata": {
        "id": "GpYoDVeGKonj",
        "colab_type": "text"
      },
      "source": [
        "***4. Create Database Tables (the storage containers in the brain)*** -- *Note: this section contains an example db transaction. It will not run in this notebook.*"
      ]
    },
    {
      "cell_type": "markdown",
      "metadata": {
        "id": "B08byjtWPzKy",
        "colab_type": "text"
      },
      "source": [
        "\n",
        "\n",
        "```\n",
        "CREATE TABLE memories (\n",
        "    id                 serial PRIMARY KEY, \n",
        "    shape              geography(POINT,4326),\n",
        "    event              varchar(80),\n",
        "    timeframe          varchar(80),\n",
        "    people             varchar(80),\n",
        "    items              varchar(80),\n",
        "    place              varchar(20),\n",
        "    place_attributes   varchar(80)\n",
        ");\n",
        "```\n",
        "\n"
      ]
    },
    {
      "cell_type": "markdown",
      "metadata": {
        "id": "JciHcNlRAT9d",
        "colab_type": "text"
      },
      "source": [
        "\n",
        "\n",
        "```\n",
        "CREATE TABLE places (\n",
        "    id                 serial PRIMARY KEY, \n",
        "    shape              geography(POLYGON,4326),\n",
        "    place              varchar(20),\n",
        "    state              varchar(10)\n",
        ");\n",
        "```\n",
        "\n"
      ]
    },
    {
      "cell_type": "markdown",
      "metadata": {
        "id": "16e6bHNbJJLA",
        "colab_type": "text"
      },
      "source": [
        "***5. Insert Record into Tables (create a memory)*** -- *Note: this section contains an example db transaction. It will not run in this notebook.*"
      ]
    },
    {
      "cell_type": "markdown",
      "metadata": {
        "id": "5_XjmyUxFzq7",
        "colab_type": "text"
      },
      "source": [
        "\n",
        "\n",
        "```\n",
        "-- insert september 11th, 2001 memory\n",
        "INSERT INTO memories \n",
        "  (event, timeframe, people, items, place, place_attributes, shape) \n",
        "VALUES \n",
        "  ('September 11th', '2001', 'friends','make-shift media center; TVs','University Union','smell of fast-food breakfast; speckled tile flooring', 'SRID=4326;POINT(40.765029,-111.845664)');\n",
        "```\n",
        "\n"
      ]
    },
    {
      "cell_type": "markdown",
      "metadata": {
        "id": "syf-PY_fv7qH",
        "colab_type": "text"
      },
      "source": [
        "```\n",
        "-- insert spatial aspect of september 11th, 2001 memory\n",
        "INSERT INTO places \n",
        "  (place, state, shape) \n",
        "VALUES \n",
        "  ('University Union, Salt Lake City', 'Utah', 'SRID=4326;POLYGON(....)');\n",
        "```"
      ]
    },
    {
      "cell_type": "markdown",
      "metadata": {
        "id": "LQze_fG5oVfx",
        "colab_type": "text"
      },
      "source": [
        "![Insert September 11th, 2001 Memory](https://lh3.googleusercontent.com/QeYi5GrsM2gpL8NxmYcNEXPuRmsguXpxW7Tacwhl8CuQSSLAhbob1j_X0DjjHz2FjsE2kJCHZefoeXfzssWbm7Ye6x0FdGnRz7idnOrfJMDCP0vJEiZSWdQyE6-VzKhNMoVaKgcMBQ)"
      ]
    },
    {
      "cell_type": "markdown",
      "metadata": {
        "id": "KjSb-N87mlfv",
        "colab_type": "text"
      },
      "source": [
        "***6. Insert Additional Record into Tables (create an additional memory)*** -- *Note: this section contains an example db transaction. It will not run in this notebook.*"
      ]
    },
    {
      "cell_type": "markdown",
      "metadata": {
        "id": "b3jRqKz1oVFq",
        "colab_type": "text"
      },
      "source": [
        "```\n",
        "-- insert early childhood christmas memory at great grandmother's house\n",
        "INSERT INTO memories (event, timeframe, people, items, place, place_attributes, shape) \n",
        "VALUES ('christmas', '1984', 'great grandmother, brother','ribbon candy; vintage battery-operated santa; dominos; welch's jelly juice cups','Massapequa Park, Long Island','pink tiled bath; pink padded toilet seat; white table doilies; yellow wall oven', 'SRID=4326;POINT(40.684079,-73.454340)');\n",
        "```"
      ]
    },
    {
      "cell_type": "markdown",
      "metadata": {
        "id": "HDL3CbxgqQUw",
        "colab_type": "text"
      },
      "source": [
        "```\n",
        "-- insert spatial aspect early childhood christmas memory\n",
        "INSERT INTO places (place, state, shape) \n",
        "VALUES ('Massapequa Park, Long Island', 'New York', 'SRID=4326;POLYGON(....)');\n",
        "```"
      ]
    },
    {
      "cell_type": "markdown",
      "metadata": {
        "id": "T6PMK7QvnxNT",
        "colab_type": "text"
      },
      "source": [
        "![Insert Early-Childhood Christmas Memory](https://lh3.googleusercontent.com/w-eNQGhONTvyNblYWJ3Dy4zQ57eOyCttdyIwVecIN05j1wdUh5ij9x6iZ-Ua-Ac9eTYisoQoIFvb2vOxgGbOKF9LXGE5GTL9FkMYu3GTB2G5X5wqRVqdtGSmwzGDkDrOf2UAUHUiKg)"
      ]
    },
    {
      "cell_type": "markdown",
      "metadata": {
        "id": "wYxTFTSZhDpT",
        "colab_type": "text"
      },
      "source": [
        "***7. Connect to Database (stimulate the brain)***"
      ]
    },
    {
      "cell_type": "code",
      "metadata": {
        "id": "Js82_BnVoE8F",
        "colab_type": "code",
        "colab": {}
      },
      "source": [
        "#: Connect to database using Python.\n",
        "conn_string = \"host='34.68.64.207' dbname='my_memories' user='memory_reader' password='retrieve_memories'\"\n",
        "conn = psycopg2.connect(conn_string)"
      ],
      "execution_count": 0,
      "outputs": []
    },
    {
      "cell_type": "markdown",
      "metadata": {
        "id": "ezoEHTQOJcDC",
        "colab_type": "text"
      },
      "source": [
        "***8. Perform Spatial Query on Database (retrieve an existing an memory from geographic location)***"
      ]
    },
    {
      "cell_type": "code",
      "metadata": {
        "id": "wgO88vCIdv48",
        "colab_type": "code",
        "outputId": "dfb12c7c-e1c7-42e6-d457-d42fb535c9a4",
        "colab": {
          "base_uri": "https://localhost:8080/",
          "height": 34
        }
      },
      "source": [
        "cursor = conn.cursor(cursor_factory=psycopg2.extras.DictCursor)\n",
        "\n",
        "#: build spatial query.\n",
        "spatial_query = \"\n",
        "SELECT \n",
        "  event, \n",
        "  timeframe, \n",
        "  people, \n",
        "  items, \n",
        "  place_attr \n",
        "FROM \n",
        "  memories a, \n",
        "  places b \n",
        "WHERE \n",
        "  a.place = 'University of Utah' \n",
        "  AND ST_Within(a.geom, b.geom);\n",
        " \"\n",
        "\n",
        "#: execute spatial the query.\n",
        "cursor.execute(spatial_query)\n",
        "for row in cursor:\n",
        "  print(row)"
      ],
      "execution_count": 0,
      "outputs": [
        {
          "output_type": "stream",
          "text": [
            "['September 11th', '2001', 'friends', 'make-shift media center; TVs', 'smell of fast-food breakfast; speckled tile flooring']\n"
          ],
          "name": "stdout"
        }
      ]
    },
    {
      "cell_type": "markdown",
      "metadata": {
        "id": "HVsSAABBJrJI",
        "colab_type": "text"
      },
      "source": [
        "***9. Perform Table Query on Database (retrieve an existing an memory from a sensory observation)***"
      ]
    },
    {
      "cell_type": "code",
      "metadata": {
        "id": "DZWYwSaoeWCE",
        "colab_type": "code",
        "outputId": "c1a7b757-f0ed-4da1-d304-e6ccc327e295",
        "colab": {
          "base_uri": "https://localhost:8080/",
          "height": 34
        }
      },
      "source": [
        "cursor = conn.cursor(cursor_factory=psycopg2.extras.DictCursor)\n",
        "\n",
        "#: build table query.\n",
        "table_query = \"\n",
        "SELECT \n",
        "  event, \n",
        "  timeframe, \n",
        "  people, \n",
        "  items, \n",
        "  place_attr\n",
        "FROM \n",
        "  memories \n",
        "WHERE \n",
        "  items LIKE '%ribbon candy%';\n",
        "\"\n",
        "\n",
        "#: execute table query.\n",
        "cursor.execute(table_query)\n",
        "for row in cursor:\n",
        "  print(row)"
      ],
      "execution_count": 0,
      "outputs": [
        {
          "output_type": "stream",
          "text": [
            "['christmas', '1984', 'great grandma; brother', \"ribbon candy; vintage battery-operated santa; dominos; welch's jelly juice cups\", 'pink tiled bath; pink padded toilet seat; white table doilies; yellow wall oven']\n"
          ],
          "name": "stdout"
        }
      ]
    }
  ]
}